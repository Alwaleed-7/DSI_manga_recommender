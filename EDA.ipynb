{
 "cells": [
  {
   "cell_type": "code",
   "execution_count": 1,
   "metadata": {},
   "outputs": [],
   "source": [
    "import pandas as pd\n",
    "import json\n",
    "import os\n",
    "import glob\n",
    "import numpy as np\n",
    "from plotnine import *\n",
    "from scipy.stats import uniform\n",
    "from scipy.stats import randint\n",
    "import seaborn as sns\n",
    "import matplotlib.pyplot as plt\n",
    "import plotly.express as px\n",
    "import plotly.graph_objects as go\n",
    "import warnings\n",
    "import math\n",
    "import re\n",
    "import json\n",
    "import html\n",
    "import math\n",
    "import shutil\n",
    "import copy"
   ]
  },
  {
   "cell_type": "code",
   "execution_count": 2,
   "metadata": {},
   "outputs": [],
   "source": [
    "df = pd.read_csv('Mangas.csv', encoding=\"utf8\")\n",
    "df2 = pd.read_csv('Author.csv')\n",
    "df = pd.merge(df, df2, on='title')"
   ]
  },
  {
   "cell_type": "code",
   "execution_count": 13,
   "metadata": {},
   "outputs": [],
   "source": [
    "df = df.drop_duplicates(subset=[\"title\", \"description\"], keep=\"first\")"
   ]
  },
  {
   "cell_type": "code",
   "execution_count": 3,
   "metadata": {},
   "outputs": [
    {
     "name": "stdout",
     "output_type": "stream",
     "text": [
      "<class 'pandas.core.frame.DataFrame'>\n",
      "Int64Index: 15489 entries, 0 to 15488\n",
      "Data columns (total 89 columns):\n",
      " #   Column             Non-Null Count  Dtype  \n",
      "---  ------             --------------  -----  \n",
      " 0   Unnamed: 0_x       15489 non-null  int64  \n",
      " 1   id_x               15489 non-null  int64  \n",
      " 2   title              15489 non-null  object \n",
      " 3   url                15489 non-null  object \n",
      " 4   description        14835 non-null  object \n",
      " 5   count_chapters     15489 non-null  int64  \n",
      " 6   rating             15489 non-null  float64\n",
      " 7   demographic        11996 non-null  object \n",
      " 8   format             15489 non-null  object \n",
      " 9   genre              15489 non-null  object \n",
      " 10  theme              15489 non-null  object \n",
      " 11  languages          15489 non-null  object \n",
      " 12  related            15489 non-null  object \n",
      " 13  matches            15489 non-null  object \n",
      " 14  matches_al         15489 non-null  object \n",
      " 15  external           15489 non-null  object \n",
      " 16  external_al        15489 non-null  object \n",
      " 17  Action             15489 non-null  bool   \n",
      " 18  Comedy             15489 non-null  bool   \n",
      " 19  Drama              15489 non-null  bool   \n",
      " 20  Fantasy            15489 non-null  bool   \n",
      " 21  Adventure          15489 non-null  bool   \n",
      " 22  Romance            15489 non-null  bool   \n",
      " 23  Unnamed: 23        15489 non-null  bool   \n",
      " 24  Psychological      15489 non-null  bool   \n",
      " 25  Slice of Life      15489 non-null  bool   \n",
      " 26  Sports             15489 non-null  bool   \n",
      " 27  Horror             15489 non-null  bool   \n",
      " 28  Mystery            15489 non-null  bool   \n",
      " 29  Historical         15489 non-null  bool   \n",
      " 30  Tragedy            15489 non-null  bool   \n",
      " 31  Sci-Fi             15489 non-null  bool   \n",
      " 32  Mecha              15489 non-null  bool   \n",
      " 33  Medical            15489 non-null  bool   \n",
      " 34  Thriller           15489 non-null  bool   \n",
      " 35  Philosophical      15489 non-null  bool   \n",
      " 36  Crime              15489 non-null  bool   \n",
      " 37  Wuxia              15489 non-null  bool   \n",
      " 38  Isekai             15489 non-null  bool   \n",
      " 39  Award Winning      15489 non-null  bool   \n",
      " 40  Unnamed: 40        15489 non-null  bool   \n",
      " 41  Long Strip         15489 non-null  bool   \n",
      " 42  Oneshot            15489 non-null  bool   \n",
      " 43  4-Koma             15489 non-null  bool   \n",
      " 44  Web Comic          15489 non-null  bool   \n",
      " 45  Anthology          15489 non-null  bool   \n",
      " 46  Adaptation         15489 non-null  bool   \n",
      " 47  Full Color         15489 non-null  bool   \n",
      " 48  Official Colored   15489 non-null  bool   \n",
      " 49  Fan Colored        15489 non-null  bool   \n",
      " 50  Unnamed: 50        15489 non-null  bool   \n",
      " 51  Martial Arts       15489 non-null  bool   \n",
      " 52  Supernatural       15489 non-null  bool   \n",
      " 53  School Life        15489 non-null  bool   \n",
      " 54  Post-Apocalyptic   15489 non-null  bool   \n",
      " 55  Cooking            15489 non-null  bool   \n",
      " 56  Video Games        15489 non-null  bool   \n",
      " 57  Traditional Games  15489 non-null  bool   \n",
      " 58  Music              15489 non-null  bool   \n",
      " 59  Delinquents        15489 non-null  bool   \n",
      " 60  Magic              15489 non-null  bool   \n",
      " 61  Mafia              15489 non-null  bool   \n",
      " 62  Office Workers     15489 non-null  bool   \n",
      " 63  Military           15489 non-null  bool   \n",
      " 64  Survival           15489 non-null  bool   \n",
      " 65  Virtual Reality    15489 non-null  bool   \n",
      " 66  Police             15489 non-null  bool   \n",
      " 67  Ninja              15489 non-null  bool   \n",
      " 68  Time Travel        15489 non-null  bool   \n",
      " 69  Aliens             15489 non-null  bool   \n",
      " 70  Demons             15489 non-null  bool   \n",
      " 71  Animals            15489 non-null  bool   \n",
      " 72  Samurai            15489 non-null  bool   \n",
      " 73  Vampires           15489 non-null  bool   \n",
      " 74  Monsters           15489 non-null  bool   \n",
      " 75  Reincarnation      15489 non-null  bool   \n",
      " 76  Monster Girls      15489 non-null  bool   \n",
      " 77  Ghosts             15489 non-null  bool   \n",
      " 78  Zombies            15489 non-null  bool   \n",
      " 79  Villainess         15489 non-null  bool   \n",
      " 80  Unnamed: 80        15489 non-null  bool   \n",
      " 81  Gore               15489 non-null  bool   \n",
      " 82  Unnamed: 0_y       15489 non-null  int64  \n",
      " 83  status             15489 non-null  object \n",
      " 84  chapters           8077 non-null   object \n",
      " 85  author             15489 non-null  object \n",
      " 86  artist             15489 non-null  object \n",
      " 87  filename           15489 non-null  object \n",
      " 88  id_y               15489 non-null  object \n",
      "dtypes: bool(65), float64(1), int64(4), object(19)\n",
      "memory usage: 3.9+ MB\n"
     ]
    }
   ],
   "source": [
    "df.info()"
   ]
  },
  {
   "cell_type": "code",
   "execution_count": 20,
   "metadata": {},
   "outputs": [
    {
     "data": {
      "text/html": [
       "<div>\n",
       "<style scoped>\n",
       "    .dataframe tbody tr th:only-of-type {\n",
       "        vertical-align: middle;\n",
       "    }\n",
       "\n",
       "    .dataframe tbody tr th {\n",
       "        vertical-align: top;\n",
       "    }\n",
       "\n",
       "    .dataframe thead th {\n",
       "        text-align: right;\n",
       "    }\n",
       "</style>\n",
       "<table border=\"1\" class=\"dataframe\">\n",
       "  <thead>\n",
       "    <tr style=\"text-align: right;\">\n",
       "      <th></th>\n",
       "      <th>Unnamed: 0_x</th>\n",
       "      <th>id_x</th>\n",
       "      <th>title</th>\n",
       "      <th>url</th>\n",
       "      <th>description</th>\n",
       "      <th>count_chapters</th>\n",
       "      <th>rating</th>\n",
       "      <th>demographic</th>\n",
       "      <th>format</th>\n",
       "      <th>genre</th>\n",
       "      <th>...</th>\n",
       "      <th>Villainess</th>\n",
       "      <th>Unnamed: 80</th>\n",
       "      <th>Gore</th>\n",
       "      <th>Unnamed: 0_y</th>\n",
       "      <th>status</th>\n",
       "      <th>chapters</th>\n",
       "      <th>author</th>\n",
       "      <th>artist</th>\n",
       "      <th>filename</th>\n",
       "      <th>id_y</th>\n",
       "    </tr>\n",
       "  </thead>\n",
       "  <tbody>\n",
       "    <tr>\n",
       "      <th>0</th>\n",
       "      <td>0</td>\n",
       "      <td>1</td>\n",
       "      <td>Tower of God</td>\n",
       "      <td>https://mangadex.org/manga/1</td>\n",
       "      <td>Bam, who was alone all his life has entered th...</td>\n",
       "      <td>1907</td>\n",
       "      <td>8.85</td>\n",
       "      <td>Shounen</td>\n",
       "      <td>['Award Winning', 'Long Strip', 'Web Comic', '...</td>\n",
       "      <td>['Action', 'Adventure', 'Comedy', 'Drama', 'Fa...</td>\n",
       "      <td>...</td>\n",
       "      <td>False</td>\n",
       "      <td>False</td>\n",
       "      <td>False</td>\n",
       "      <td>48192</td>\n",
       "      <td>hiatus</td>\n",
       "      <td>NaN</td>\n",
       "      <td>SIU</td>\n",
       "      <td>SIU</td>\n",
       "      <td>ff317e75-c2de-4fdd-a9ef-1687315abef1.jpg</td>\n",
       "      <td>c0ee660b-f9f2-45c3-8068-5123ff53f84a</td>\n",
       "    </tr>\n",
       "    <tr>\n",
       "      <th>1</th>\n",
       "      <td>2</td>\n",
       "      <td>3</td>\n",
       "      <td>The Bullet Saint</td>\n",
       "      <td>https://mangadex.org/manga/3</td>\n",
       "      <td>1943 Manju. Kim Ui-ryong, known as the perfect...</td>\n",
       "      <td>3</td>\n",
       "      <td>7.87</td>\n",
       "      <td>NaN</td>\n",
       "      <td>[]</td>\n",
       "      <td>['Action', 'Adventure', 'Drama', 'Mystery']</td>\n",
       "      <td>...</td>\n",
       "      <td>False</td>\n",
       "      <td>False</td>\n",
       "      <td>False</td>\n",
       "      <td>18855</td>\n",
       "      <td>completed</td>\n",
       "      <td>34</td>\n",
       "      <td>유경원</td>\n",
       "      <td>문성호</td>\n",
       "      <td>16d85f62-4da9-4c6f-9d6c-d2c79044c846.jpg</td>\n",
       "      <td>4b9211d5-c33c-49e0-a0fc-5929992e0766</td>\n",
       "    </tr>\n",
       "    <tr>\n",
       "      <th>2</th>\n",
       "      <td>3</td>\n",
       "      <td>4</td>\n",
       "      <td>Beelzebub</td>\n",
       "      <td>https://mangadex.org/manga/4</td>\n",
       "      <td>Ishiyama High is a school populated entirely b...</td>\n",
       "      <td>1005</td>\n",
       "      <td>8.63</td>\n",
       "      <td>Shounen</td>\n",
       "      <td>[]</td>\n",
       "      <td>['Action', 'Comedy', 'Fantasy']</td>\n",
       "      <td>...</td>\n",
       "      <td>False</td>\n",
       "      <td>False</td>\n",
       "      <td>False</td>\n",
       "      <td>34706</td>\n",
       "      <td>completed</td>\n",
       "      <td>246</td>\n",
       "      <td>Tamura Ryuuhei</td>\n",
       "      <td>Tamura Ryuuhei</td>\n",
       "      <td>bab3ccbf-7479-4117-ad92-4dedced54ceb.jpg</td>\n",
       "      <td>8af3ad21-3e7e-4fb5-b344-d0044ec154fc</td>\n",
       "    </tr>\n",
       "    <tr>\n",
       "      <th>3</th>\n",
       "      <td>4</td>\n",
       "      <td>5</td>\n",
       "      <td>Naruto</td>\n",
       "      <td>https://mangadex.org/manga/5</td>\n",
       "      <td>Before Naruto's birth, a great demon fox had a...</td>\n",
       "      <td>2156</td>\n",
       "      <td>8.00</td>\n",
       "      <td>Shounen</td>\n",
       "      <td>[]</td>\n",
       "      <td>['Action', 'Adventure', 'Comedy', 'Drama', 'Fa...</td>\n",
       "      <td>...</td>\n",
       "      <td>False</td>\n",
       "      <td>False</td>\n",
       "      <td>False</td>\n",
       "      <td>26689</td>\n",
       "      <td>completed</td>\n",
       "      <td>700</td>\n",
       "      <td>Kishimoto Masashi</td>\n",
       "      <td>Kishimoto Masashi</td>\n",
       "      <td>bb223226-a5ca-457b-8a10-ad3ecaea66be.jpg</td>\n",
       "      <td>6b1eb93e-473a-4ab3-9922-1a66d2a29a4a</td>\n",
       "    </tr>\n",
       "    <tr>\n",
       "      <th>4</th>\n",
       "      <td>7</td>\n",
       "      <td>8</td>\n",
       "      <td>Psyren</td>\n",
       "      <td>https://mangadex.org/manga/8</td>\n",
       "      <td>Ageha Yoshina is a self-confident high school ...</td>\n",
       "      <td>439</td>\n",
       "      <td>8.54</td>\n",
       "      <td>Shounen</td>\n",
       "      <td>[]</td>\n",
       "      <td>['Action', 'Adventure', 'Comedy', 'Drama', 'Fa...</td>\n",
       "      <td>...</td>\n",
       "      <td>False</td>\n",
       "      <td>False</td>\n",
       "      <td>False</td>\n",
       "      <td>54402</td>\n",
       "      <td>completed</td>\n",
       "      <td>145.5</td>\n",
       "      <td>Iwashiro Toshiaki</td>\n",
       "      <td>Iwashiro Toshiaki</td>\n",
       "      <td>1b688310-58ee-4187-8a3d-a950b21fa9bc.jpg</td>\n",
       "      <td>d97db976-eeec-4eb4-8868-346fbd7ed1e5</td>\n",
       "    </tr>\n",
       "  </tbody>\n",
       "</table>\n",
       "<p>5 rows × 89 columns</p>\n",
       "</div>"
      ],
      "text/plain": [
       "   Unnamed: 0_x  id_x             title                           url  \\\n",
       "0             0     1      Tower of God  https://mangadex.org/manga/1   \n",
       "1             2     3  The Bullet Saint  https://mangadex.org/manga/3   \n",
       "2             3     4         Beelzebub  https://mangadex.org/manga/4   \n",
       "3             4     5            Naruto  https://mangadex.org/manga/5   \n",
       "4             7     8            Psyren  https://mangadex.org/manga/8   \n",
       "\n",
       "                                         description  count_chapters  rating  \\\n",
       "0  Bam, who was alone all his life has entered th...            1907    8.85   \n",
       "1  1943 Manju. Kim Ui-ryong, known as the perfect...               3    7.87   \n",
       "2  Ishiyama High is a school populated entirely b...            1005    8.63   \n",
       "3  Before Naruto's birth, a great demon fox had a...            2156    8.00   \n",
       "4  Ageha Yoshina is a self-confident high school ...             439    8.54   \n",
       "\n",
       "  demographic                                             format  \\\n",
       "0     Shounen  ['Award Winning', 'Long Strip', 'Web Comic', '...   \n",
       "1         NaN                                                 []   \n",
       "2     Shounen                                                 []   \n",
       "3     Shounen                                                 []   \n",
       "4     Shounen                                                 []   \n",
       "\n",
       "                                               genre  ... Villainess  \\\n",
       "0  ['Action', 'Adventure', 'Comedy', 'Drama', 'Fa...  ...      False   \n",
       "1        ['Action', 'Adventure', 'Drama', 'Mystery']  ...      False   \n",
       "2                    ['Action', 'Comedy', 'Fantasy']  ...      False   \n",
       "3  ['Action', 'Adventure', 'Comedy', 'Drama', 'Fa...  ...      False   \n",
       "4  ['Action', 'Adventure', 'Comedy', 'Drama', 'Fa...  ...      False   \n",
       "\n",
       "  Unnamed: 80   Gore Unnamed: 0_y     status chapters             author  \\\n",
       "0       False  False        48192     hiatus      NaN                SIU   \n",
       "1       False  False        18855  completed       34                유경원   \n",
       "2       False  False        34706  completed      246     Tamura Ryuuhei   \n",
       "3       False  False        26689  completed      700  Kishimoto Masashi   \n",
       "4       False  False        54402  completed    145.5  Iwashiro Toshiaki   \n",
       "\n",
       "              artist                                  filename  \\\n",
       "0                SIU  ff317e75-c2de-4fdd-a9ef-1687315abef1.jpg   \n",
       "1                문성호  16d85f62-4da9-4c6f-9d6c-d2c79044c846.jpg   \n",
       "2     Tamura Ryuuhei  bab3ccbf-7479-4117-ad92-4dedced54ceb.jpg   \n",
       "3  Kishimoto Masashi  bb223226-a5ca-457b-8a10-ad3ecaea66be.jpg   \n",
       "4  Iwashiro Toshiaki  1b688310-58ee-4187-8a3d-a950b21fa9bc.jpg   \n",
       "\n",
       "                                   id_y  \n",
       "0  c0ee660b-f9f2-45c3-8068-5123ff53f84a  \n",
       "1  4b9211d5-c33c-49e0-a0fc-5929992e0766  \n",
       "2  8af3ad21-3e7e-4fb5-b344-d0044ec154fc  \n",
       "3  6b1eb93e-473a-4ab3-9922-1a66d2a29a4a  \n",
       "4  d97db976-eeec-4eb4-8868-346fbd7ed1e5  \n",
       "\n",
       "[5 rows x 89 columns]"
      ]
     },
     "execution_count": 20,
     "metadata": {},
     "output_type": "execute_result"
    }
   ],
   "source": [
    "df.head()"
   ]
  },
  {
   "cell_type": "code",
   "execution_count": 24,
   "metadata": {},
   "outputs": [],
   "source": [
    "# Convert the classes\n",
    "for i in ['genre', 'format', 'theme']:\n",
    "    df[i] = df[i].apply(eval)"
   ]
  },
  {
   "cell_type": "code",
   "execution_count": 18,
   "metadata": {},
   "outputs": [],
   "source": [
    "def to_1D(series):\n",
    " return pd.Series([x for _list in series for x in _list])"
   ]
  },
  {
   "cell_type": "code",
   "execution_count": 26,
   "metadata": {},
   "outputs": [
    {
     "data": {
      "text/plain": [
       "Romance          6708\n",
       "Comedy           6325\n",
       "Drama            5428\n",
       "Action           3973\n",
       "Fantasy          3814\n",
       "Slice of Life    3708\n",
       "Adventure        2393\n",
       "Mystery          1599\n",
       "Psychological    1395\n",
       "Tragedy          1302\n",
       "Historical       1133\n",
       "Horror           1018\n",
       "Sci-Fi            836\n",
       "Isekai            520\n",
       "Sports            511\n",
       "Mecha             216\n",
       "Thriller          196\n",
       "Crime             157\n",
       "Wuxia             110\n",
       "Philosophical      93\n",
       "Superhero          88\n",
       "Medical            82\n",
       "dtype: int64"
      ]
     },
     "execution_count": 26,
     "metadata": {},
     "output_type": "execute_result"
    }
   ],
   "source": [
    "# genre value counts\n",
    "to_1D(df['genre']).value_counts()"
   ]
  },
  {
   "cell_type": "code",
   "execution_count": 27,
   "metadata": {},
   "outputs": [
    {
     "data": {
      "text/plain": [
       "Web Comic           2415\n",
       "Long Strip          2384\n",
       "Oneshot             2331\n",
       "Full Color          2169\n",
       "Adaptation           929\n",
       "4-Koma               504\n",
       "Official Colored     364\n",
       "Anthology            361\n",
       "Award Winning        284\n",
       "Fan Colored           20\n",
       "dtype: int64"
      ]
     },
     "execution_count": 27,
     "metadata": {},
     "output_type": "execute_result"
    }
   ],
   "source": [
    "# format value counts\n",
    "to_1D(df['format']).value_counts()"
   ]
  },
  {
   "cell_type": "code",
   "execution_count": 28,
   "metadata": {},
   "outputs": [
    {
     "data": {
      "text/plain": [
       "School Life          3830\n",
       "Supernatural         3300\n",
       "Martial Arts          802\n",
       "Magic                 606\n",
       "Reincarnation         418\n",
       "Monsters              391\n",
       "Demons                297\n",
       "Video Games           282\n",
       "Animals               275\n",
       "Time Travel           217\n",
       "Cooking               209\n",
       "Military              194\n",
       "Music                 184\n",
       "Survival              179\n",
       "Office Workers        169\n",
       "Vampires              158\n",
       "Ghosts                152\n",
       "Monster Girls         138\n",
       "Post-Apocalyptic      125\n",
       "Delinquents           121\n",
       "Aliens                106\n",
       "Villainess            100\n",
       "Police                 86\n",
       "Zombies                67\n",
       "Mafia                  62\n",
       "Virtual Reality        57\n",
       "Samurai                55\n",
       "Ninja                  35\n",
       "Traditional Games      31\n",
       "dtype: int64"
      ]
     },
     "execution_count": 28,
     "metadata": {},
     "output_type": "execute_result"
    }
   ],
   "source": [
    "# theme value counts\n",
    "to_1D(df['theme']).value_counts()"
   ]
  },
  {
   "cell_type": "code",
   "execution_count": 29,
   "metadata": {},
   "outputs": [
    {
     "data": {
      "text/plain": [
       "Shoujo     4268\n",
       "Shounen    3475\n",
       "Seinen     2845\n",
       "Josei       938\n",
       "Name: demographic, dtype: int64"
      ]
     },
     "execution_count": 29,
     "metadata": {},
     "output_type": "execute_result"
    }
   ],
   "source": [
    "df['demographic'].value_counts()"
   ]
  },
  {
   "cell_type": "code",
   "execution_count": 4,
   "metadata": {},
   "outputs": [],
   "source": [
    "def boolean_df(item_lists, unique_items):\n",
    "# Create empty dict\n",
    "    bool_dict = {}\n",
    "    \n",
    "    # Loop through all the tags\n",
    "    for i, item in enumerate(unique_items):\n",
    "        \n",
    "        # Apply boolean mask\n",
    "        bool_dict[item] = item_lists.apply(lambda x: item in x)\n",
    "            \n",
    "    # Return the results as a dataframe\n",
    "    return pd.DataFrame(bool_dict)"
   ]
  },
  {
   "cell_type": "code",
   "execution_count": 30,
   "metadata": {},
   "outputs": [
    {
     "name": "stderr",
     "output_type": "stream",
     "text": [
      "C:\\Users\\Alhaz\\AppData\\Local\\Temp\\ipykernel_3876\\911152344.py:1: FutureWarning: The default dtype for empty Series will be 'object' instead of 'float64' in a future version. Specify a dtype explicitly to silence this warning.\n"
     ]
    },
    {
     "data": {
      "text/plain": [
       "['Action',\n",
       " 'Comedy',\n",
       " 'Fantasy',\n",
       " 'Drama',\n",
       " 'Adventure',\n",
       " 'Romance',\n",
       " 'Slice of Life',\n",
       " 'Sports',\n",
       " 'Mystery',\n",
       " 'Historical',\n",
       " 'Horror',\n",
       " 'Psychological',\n",
       " nan,\n",
       " 'Tragedy',\n",
       " 'Sci-Fi',\n",
       " 'Mecha',\n",
       " 'Medical',\n",
       " 'Thriller',\n",
       " 'Philosophical',\n",
       " 'Crime',\n",
       " 'Wuxia',\n",
       " 'Isekai']"
      ]
     },
     "execution_count": 30,
     "metadata": {},
     "output_type": "execute_result"
    }
   ],
   "source": [
    "df_1 = df[\"genre\"].apply(pd.Series)\n",
    "genres_list = []\n",
    "for j in range(len(df)):\n",
    "    for i in df_1[0].unique():\n",
    "        if i not in genres_list:\n",
    "            genres_list.append(i)\n",
    "genres_list"
   ]
  },
  {
   "cell_type": "code",
   "execution_count": 31,
   "metadata": {},
   "outputs": [
    {
     "name": "stderr",
     "output_type": "stream",
     "text": [
      "C:\\Users\\Alhaz\\AppData\\Local\\Temp\\ipykernel_3876\\1790145611.py:1: FutureWarning: The default dtype for empty Series will be 'object' instead of 'float64' in a future version. Specify a dtype explicitly to silence this warning.\n"
     ]
    },
    {
     "data": {
      "text/plain": [
       "[nan,\n",
       " 'Supernatural',\n",
       " 'Martial Arts',\n",
       " 'School Life',\n",
       " 'Cooking',\n",
       " 'Traditional Games',\n",
       " 'Music',\n",
       " 'Delinquents',\n",
       " 'Magic',\n",
       " 'Post-Apocalyptic',\n",
       " 'Survival',\n",
       " 'Military',\n",
       " 'Virtual Reality',\n",
       " 'Police',\n",
       " 'Ninja',\n",
       " 'Aliens',\n",
       " 'Demons',\n",
       " 'Animals',\n",
       " 'Video Games',\n",
       " 'Samurai',\n",
       " 'Time Travel',\n",
       " 'Reincarnation',\n",
       " 'Monsters',\n",
       " 'Mafia',\n",
       " 'Vampires',\n",
       " 'Office Workers',\n",
       " 'Monster Girls',\n",
       " 'Zombies',\n",
       " 'Ghosts',\n",
       " 'Villainess']"
      ]
     },
     "execution_count": 31,
     "metadata": {},
     "output_type": "execute_result"
    }
   ],
   "source": [
    "df_1 = df[\"theme\"].apply(pd.Series)\n",
    "genres_list2 = []\n",
    "for j in range(len(df)):\n",
    "    for i in df_1[0].unique():\n",
    "        if i not in genres_list2:\n",
    "            genres_list2.append(i)\n",
    "genres_list2"
   ]
  },
  {
   "cell_type": "code",
   "execution_count": 32,
   "metadata": {},
   "outputs": [
    {
     "name": "stderr",
     "output_type": "stream",
     "text": [
      "C:\\Users\\Alhaz\\AppData\\Local\\Temp\\ipykernel_3876\\415748427.py:1: FutureWarning: The default dtype for empty Series will be 'object' instead of 'float64' in a future version. Specify a dtype explicitly to silence this warning.\n"
     ]
    },
    {
     "data": {
      "text/plain": [
       "['Award Winning',\n",
       " nan,\n",
       " 'Long Strip',\n",
       " 'Oneshot',\n",
       " '4-Koma',\n",
       " 'Anthology',\n",
       " 'Adaptation',\n",
       " 'Full Color',\n",
       " 'Web Comic',\n",
       " 'Official Colored',\n",
       " 'Fan Colored']"
      ]
     },
     "execution_count": 32,
     "metadata": {},
     "output_type": "execute_result"
    }
   ],
   "source": [
    "df_1 = df[\"format\"].apply(pd.Series)\n",
    "genres_list3 = []\n",
    "for j in range(len(df)):\n",
    "    for i in df_1[0].unique():\n",
    "        if i not in genres_list3:\n",
    "            genres_list3.append(i)\n",
    "genres_list3"
   ]
  },
  {
   "cell_type": "code",
   "execution_count": 17,
   "metadata": {},
   "outputs": [],
   "source": [
    "df_bool = boolean_df(df['genre'], genres_list)\n",
    "df_bool1 = boolean_df(df['format'], genres_list3)\n",
    "df_bool2 = boolean_df(df['theme'], genres_list2)\n"
   ]
  },
  {
   "cell_type": "code",
   "execution_count": 45,
   "metadata": {},
   "outputs": [
    {
     "data": {
      "image/png": "[encoded data removed]",
      "text/plain": [
       "<Figure size 1000x500 with 1 Axes>"
      ]
     },
     "metadata": {},
     "output_type": "display_data"
    }
   ],
   "source": [
    "plt.subplots(figsize=(10,5))\n",
    "sns.countplot(x=\"demographic\", data=df, order = df['demographic'].value_counts().index)\n",
    "plt.title(\"Demographic Count\")#, weight=\"bold\",fontsize=20, pad=20)\n",
    "plt.ylabel(\"count\", weight=\"bold\", fontsize=20)\n",
    "plt.xlabel(\"Demographic\", weight=\"bold\", fontsize=16)\n",
    "plt.xticks(rotation= 45)\n",
    "plt.show()\n"
   ]
  },
  {
   "cell_type": "code",
   "execution_count": 34,
   "metadata": {},
   "outputs": [
    {
     "data": {
      "text/plain": [
       "7.810146762589929"
      ]
     },
     "execution_count": 34,
     "metadata": {},
     "output_type": "execute_result"
    }
   ],
   "source": [
    "# Average rating for Shounen manga in the data\n",
    "df[df['demographic'] == 'Shounen'].rating.mean()"
   ]
  },
  {
   "cell_type": "code",
   "execution_count": 35,
   "metadata": {},
   "outputs": [
    {
     "data": {
      "text/plain": [
       "7.665110121836927"
      ]
     },
     "execution_count": 35,
     "metadata": {},
     "output_type": "execute_result"
    }
   ],
   "source": [
    "# Average rating for Shoujo manga in the data\n",
    "df[df['demographic'] == 'Shoujo'].rating.mean()"
   ]
  },
  {
   "cell_type": "code",
   "execution_count": 36,
   "metadata": {},
   "outputs": [
    {
     "data": {
      "text/plain": [
       "7.92913181019332"
      ]
     },
     "execution_count": 36,
     "metadata": {},
     "output_type": "execute_result"
    }
   ],
   "source": [
    "# Average rating for Seinen manga in the data\n",
    "df[df['demographic'] == 'Seinen'].rating.mean()"
   ]
  },
  {
   "cell_type": "code",
   "execution_count": 37,
   "metadata": {},
   "outputs": [
    {
     "data": {
      "text/plain": [
       "7.818144989339019"
      ]
     },
     "execution_count": 37,
     "metadata": {},
     "output_type": "execute_result"
    }
   ],
   "source": [
    "# Average rating for Josei manga in the data\n",
    "df[df['demographic'] == 'Josei'].rating.mean()"
   ]
  },
  {
   "cell_type": "code",
   "execution_count": 55,
   "metadata": {},
   "outputs": [
    {
     "data": {
      "image/png": "[encoded data removed]",
      "text/plain": [
       "<Figure size 1000x500 with 1 Axes>"
      ]
     },
     "metadata": {},
     "output_type": "display_data"
    }
   ],
   "source": [
    "plt.subplots(figsize=(10,5))\n",
    "sns.barplot(data=df, x = df['demographic'], y =df['rating'])\n",
    "plt.title(\"Rating based on demographic\")#, weight=\"bold\",fontsize=20, pad=20)\n",
    "plt.ylabel(\"Rating\", weight=\"bold\", fontsize=20)\n",
    "plt.xlabel(\"Demographic\", weight=\"bold\", fontsize=16)\n",
    "plt.xticks(rotation= 45)\n",
    "plt.show()"
   ]
  }
 ],
 "metadata": {
  "kernelspec": {
   "display_name": "Python 3.9.0 64-bit",
   "language": "python",
   "name": "python3"
  },
  "language_info": {
   "codemirror_mode": {
    "name": "ipython",
    "version": 3
   },
   "file_extension": ".py",
   "mimetype": "text/x-python",
   "name": "python",
   "nbconvert_exporter": "python",
   "pygments_lexer": "ipython3",
   "version": "3.9.0"
  },
  "orig_nbformat": 4,
  "vscode": {
   "interpreter": {
    "hash": "015882ace943a6af892b59db330d36389659df9a356b8e1b951bdcdb52b46345"
   }
  }
 },
 "nbformat": 4,
 "nbformat_minor": 2
}
